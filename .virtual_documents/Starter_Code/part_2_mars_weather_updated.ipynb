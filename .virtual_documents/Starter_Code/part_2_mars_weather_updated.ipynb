


# Import relevant libraries
!pip install splinter
from splinter import Browser
from bs4 import BeautifulSoup
import matplotlib.pyplot as plt
import pandas as pd


browser = Browser('chrome')





# Visit the website
# https://static.bc-edx.com/data/web/mars_facts/temperature.html
url = "https://static.bc-edx.com/data/web/mars_facts/temperature.html"
browser.visit(url)





# Create a Beautiful Soup Object
html = browser.html
soup = BeautifulSoup(html, 'html.parser')



# Extract all rows of data
table = soup.find('table', class_='table')
rows = table.find_all('tr')





# Create an empty list
data = []

# Loop through the scraped data to create a list of rows
columns = [th.text.strip() for th in rows[0].find_all('th')]  # Extract column headers
for row in rows[1:]:
    row_data = [td.text.strip() for td in row.find_all('td')]
    data.append(row_data)


# Create a Pandas DataFrame by using the list of rows and a list of the column names
mars_df = pd.DataFrame(data, columns=columns)


# Confirm DataFrame was created successfully
mars_df.head()





# Examine data type of each column
mars_df.dtypes


# Change data types for data analysis

mars_df['terrestrial_date'] = pd.to_datetime(mars_df['terrestrial_date'])
mars_df['sol'] = mars_df['sol'].astype(int)
mars_df['ls'] = mars_df['ls'].astype(int)
mars_df['month'] = mars_df['month'].astype(int)
mars_df['min_temp'] = mars_df['min_temp'].astype(float)
mars_df['pressure'] = mars_df['pressure'].astype(float)




# Confirm type changes were successful by examining data types again
mars_df.dtypes






# 1. How many months are there on Mars?
num_months = mars_df['month'].nunique()
num_months



# 2. How many sols (Martian days) worth of data are there?
num_sols = mars_df['sol'].nunique()
num_sols



# 3. What is the average minimum temperature by month?
avg_min_temp = mars_df.groupby('month')['min_temp'].mean()
avg_min_temp



# Plot the average minimum temperature by month
avg_min_temp.plot(kind='bar', 
                  xlabel='month', 
                  ylabel='Temperature in Celsius', 
                  title='Average Minimum Temperature by Month')
plt.show()



# Identify the coldest and hottest months in Curiosity's location by sorting the previous graph
avg_min_temp_sorted = avg_min_temp.sort_values()
avg_min_temp_sorted.plot(kind='bar', 
                         xlabel='month', 
                         ylabel='Temperature in Celsius', 
                         title='Average Minimum Temperature by Month')
plt.show()



# 4. What is the average pressure by month?
avg_pressure = mars_df.groupby('month')['pressure'].mean()
avg_pressure



# Plot the average pressure by month
avg_pressure.plot(kind='bar', 
                  xlabel='month', 
                  ylabel='Atmospheric Pressure', 
                  title='Average Pressure by Month')
plt.show()



# Identify the lowest and highest pressure months in Curiosity's location by sorting the previous graph
avg_pressure_sorted = avg_pressure.sort_values()
avg_pressure_sorted.plot(kind='bar', 
                         xlabel='month', 
                         ylabel='Atmospheric Pressure', 
                         title='Average Pressure by Month')
plt.show()



# Scale terrestrial days to range from 0 to 1750
mars_df['scaled_terrestrial_day'] = mars_df['terrestrial_day_number'] / mars_df['terrestrial_day_number'].max() * 1750

# Plot the data

plt.plot(mars_df['scaled_terrestrial_day'], mars_df['min_temp'])
plt.title('Minimum Temperature over Time')
plt.xlabel('Number of terrestrial days')
plt.ylabel('Minimum temperature')
plt.xticks(ticks=range(0, 1751, 250))  # Set ticks to match the desired output
plt.show()

















# Write the data to a CSV
mars_df.to_csv('mars_weather_data.csv', index=False)



browser.quit()



